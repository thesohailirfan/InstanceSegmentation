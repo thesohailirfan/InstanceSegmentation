{
 "cells": [
  {
   "cell_type": "markdown",
   "id": "2f7306c5",
   "metadata": {},
   "source": [
    "# Installing the Libraries"
   ]
  },
  {
   "cell_type": "markdown",
   "id": "2303e46f",
   "metadata": {},
   "source": [
    "tensorflow==2.11.0\n",
    "pixellib==6.6\n",
    "opencv-python==4.6.0.66"
   ]
  },
  {
   "cell_type": "code",
   "execution_count": null,
   "id": "4b5134dc",
   "metadata": {},
   "outputs": [],
   "source": [
    "!pip install tensorflow pixellib opencv-python"
   ]
  },
  {
   "cell_type": "markdown",
   "id": "85e49b4b",
   "metadata": {},
   "source": [
    "# Importing all the necessary Libraries"
   ]
  },
  {
   "cell_type": "code",
   "execution_count": null,
   "id": "8b42c928",
   "metadata": {},
   "outputs": [],
   "source": [
    "import pixellib\n",
    "from pixellib.instance import instance_segmentation\n",
    "import cv2"
   ]
  },
  {
   "cell_type": "markdown",
   "id": "bdf9eb7a",
   "metadata": {},
   "source": [
    "# Creating Instance of the Model & Loading the Model"
   ]
  },
  {
   "cell_type": "markdown",
   "id": "4fe7ca95",
   "metadata": {},
   "source": [
    "mask_rcnn_coco.h5 is the name of the file inside the same folder."
   ]
  },
  {
   "cell_type": "code",
   "execution_count": null,
   "id": "3d26a385",
   "metadata": {},
   "outputs": [],
   "source": [
    "segmentation_model = instance_segmentation()\n",
    "segmentation_model.load_model('mask_rcnn_coco.h5')"
   ]
  },
  {
   "cell_type": "markdown",
   "id": "00c629d9",
   "metadata": {},
   "source": [
    "# Capturing the live feed and detecting the Objects inside it"
   ]
  },
  {
   "cell_type": "code",
   "execution_count": null,
   "id": "2992d9db",
   "metadata": {},
   "outputs": [],
   "source": [
    "cap = cv2.VideoCapture(1)\n",
    "\n",
    "while cap.isOpened():\n",
    "    ret, frame = cap.read()\n",
    "    \n",
    "    res = segmentation_model.segmentFrame(frame, show_bboxes=True)\n",
    "    image = res[1]\n",
    "    \n",
    "    cv2.imshow(\"Image Segmentation\", image)\n",
    "    \n",
    "    if cv2.waitKey(10) & 0xFF == ord('q'):\n",
    "        break\n",
    "\n",
    "cap.release()\n",
    "cv2.destroyAllWindows()"
   ]
  }
 ],
 "metadata": {
  "kernelspec": {
   "display_name": "Python 3 (ipykernel)",
   "language": "python",
   "name": "python3"
  },
  "language_info": {
   "codemirror_mode": {
    "name": "ipython",
    "version": 3
   },
   "file_extension": ".py",
   "mimetype": "text/x-python",
   "name": "python",
   "nbconvert_exporter": "python",
   "pygments_lexer": "ipython3",
   "version": "3.8.0"
  }
 },
 "nbformat": 4,
 "nbformat_minor": 5
}
